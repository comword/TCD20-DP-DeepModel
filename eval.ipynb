{
 "cells": [
  {
   "cell_type": "code",
   "execution_count": 1,
   "source": [
    "import os\n",
    "import sys\n",
    "import collections\n",
    "import numpy as np\n",
    "import tensorflow as tf\n",
    "import matplotlib.pyplot as plt\n",
    "src_dir = os.path.join(\"src\")\n",
    "sys.path.insert(0, src_dir)\n",
    "from trainer import VideoTrainer\n",
    "from utils import init, DotDict\n",
    "from parse_config import ConfigParser\n",
    "from model import VTNBuilder"
   ],
   "outputs": [],
   "metadata": {}
  },
  {
   "cell_type": "code",
   "execution_count": 2,
   "source": [
    "def update(d, u):\n",
    "    for k, v in u.items():\n",
    "        if isinstance(v, collections.abc.Mapping):\n",
    "            d[k] = update(d.get(k, {}), v)\n",
    "        else:\n",
    "            d[k] = v\n",
    "    return d"
   ],
   "outputs": [],
   "metadata": {}
  },
  {
   "cell_type": "code",
   "execution_count": 3,
   "source": [
    "args = DotDict({\n",
    "    \"resume\": \"saved/0722_055454/model_best\"\n",
    "})\n",
    "config = ConfigParser.from_args(args)\n",
    "update(config.config, {\n",
    "    \"data_loader\":{\n",
    "        \"args\": {\n",
    "            \"data_path\": \"data/orig-front-videos\",\n",
    "            \"validation_split\": 0.1,\n",
    "            \"shuffle\": True\n",
    "        }\n",
    "    }\n",
    "})\n",
    "data_loader, model = init(config)"
   ],
   "outputs": [
    {
     "output_type": "stream",
     "name": "stderr",
     "text": [
      "2021-07-21 23:20:23.163721: I tensorflow/core/platform/cpu_feature_guard.cc:142] This TensorFlow binary is optimized with oneAPI Deep Neural Network Library (oneDNN) to use the following CPU instructions in performance-critical operations:  SSE4.1 SSE4.2 AVX AVX2 FMA\n",
      "To enable them in other operations, rebuild TensorFlow with the appropriate compiler flags.\n"
     ]
    }
   ],
   "metadata": {}
  },
  {
   "cell_type": "code",
   "execution_count": null,
   "source": [
    "trainer = VideoTrainer(model, config, data_loader=data_loader)"
   ],
   "outputs": [
    {
     "output_type": "error",
     "ename": "JSONDecodeError",
     "evalue": "Expecting value: line 1 column 1 (char 0)",
     "traceback": [
      "\u001b[0;31m---------------------------------------------------------------------------\u001b[0m",
      "\u001b[0;31mJSONDecodeError\u001b[0m                           Traceback (most recent call last)",
      "\u001b[0;32m/var/folders/x_/c0w88cq11f9d4j3dycpqg0rh0000gn/T/ipykernel_47358/66419149.py\u001b[0m in \u001b[0;36m<module>\u001b[0;34m\u001b[0m\n\u001b[0;32m----> 1\u001b[0;31m \u001b[0mtrainer\u001b[0m \u001b[0;34m=\u001b[0m \u001b[0mVideoTrainer\u001b[0m\u001b[0;34m(\u001b[0m\u001b[0mmodel\u001b[0m\u001b[0;34m,\u001b[0m \u001b[0mconfig\u001b[0m\u001b[0;34m,\u001b[0m \u001b[0mdata_loader\u001b[0m\u001b[0;34m=\u001b[0m\u001b[0mdata_loader\u001b[0m\u001b[0;34m)\u001b[0m\u001b[0;34m\u001b[0m\u001b[0;34m\u001b[0m\u001b[0m\n\u001b[0m",
      "\u001b[0;32m~/gits/TCD20-DP-DeepModel/src/trainer/VideoTrainer.py\u001b[0m in \u001b[0;36m__init__\u001b[0;34m(self, model, config, data_loader)\u001b[0m\n\u001b[1;32m     45\u001b[0m         self.test_accuracy = tf.keras.metrics.SparseCategoricalAccuracy(\n\u001b[1;32m     46\u001b[0m             'val_accuracy')\n\u001b[0;32m---> 47\u001b[0;31m         \u001b[0msuper\u001b[0m\u001b[0;34m(\u001b[0m\u001b[0mVideoTrainer\u001b[0m\u001b[0;34m,\u001b[0m \u001b[0mself\u001b[0m\u001b[0;34m)\u001b[0m\u001b[0;34m.\u001b[0m\u001b[0m__init__\u001b[0m\u001b[0;34m(\u001b[0m\u001b[0mmodel\u001b[0m\u001b[0;34m,\u001b[0m \u001b[0mconfig\u001b[0m\u001b[0;34m,\u001b[0m \u001b[0moptimizer\u001b[0m\u001b[0;34m)\u001b[0m\u001b[0;34m\u001b[0m\u001b[0;34m\u001b[0m\u001b[0m\n\u001b[0m\u001b[1;32m     48\u001b[0m \u001b[0;34m\u001b[0m\u001b[0m\n\u001b[1;32m     49\u001b[0m     \u001b[0;32mdef\u001b[0m \u001b[0m_train_epoch\u001b[0m\u001b[0;34m(\u001b[0m\u001b[0mself\u001b[0m\u001b[0;34m,\u001b[0m \u001b[0mepoch\u001b[0m\u001b[0;34m)\u001b[0m\u001b[0;34m:\u001b[0m\u001b[0;34m\u001b[0m\u001b[0;34m\u001b[0m\u001b[0m\n",
      "\u001b[0;32m~/gits/TCD20-DP-DeepModel/src/trainer/base_trainer.py\u001b[0m in \u001b[0;36m__init__\u001b[0;34m(self, model, config, optimizer)\u001b[0m\n\u001b[1;32m     44\u001b[0m \u001b[0;34m\u001b[0m\u001b[0m\n\u001b[1;32m     45\u001b[0m         \u001b[0;32mif\u001b[0m \u001b[0mconfig\u001b[0m\u001b[0;34m.\u001b[0m\u001b[0mresume\u001b[0m \u001b[0;32mis\u001b[0m \u001b[0;32mnot\u001b[0m \u001b[0;32mNone\u001b[0m\u001b[0;34m:\u001b[0m\u001b[0;34m\u001b[0m\u001b[0;34m\u001b[0m\u001b[0m\n\u001b[0;32m---> 46\u001b[0;31m             \u001b[0mself\u001b[0m\u001b[0;34m.\u001b[0m\u001b[0m_resume_checkpoint\u001b[0m\u001b[0;34m(\u001b[0m\u001b[0mconfig\u001b[0m\u001b[0;34m.\u001b[0m\u001b[0mresume\u001b[0m\u001b[0;34m)\u001b[0m\u001b[0;34m\u001b[0m\u001b[0;34m\u001b[0m\u001b[0m\n\u001b[0m\u001b[1;32m     47\u001b[0m \u001b[0;34m\u001b[0m\u001b[0m\n\u001b[1;32m     48\u001b[0m     \u001b[0;34m@\u001b[0m\u001b[0mabstractmethod\u001b[0m\u001b[0;34m\u001b[0m\u001b[0;34m\u001b[0m\u001b[0m\n",
      "\u001b[0;32m~/gits/TCD20-DP-DeepModel/src/trainer/base_trainer.py\u001b[0m in \u001b[0;36m_resume_checkpoint\u001b[0;34m(self, resume_path)\u001b[0m\n\u001b[1;32m    149\u001b[0m                                    config=config)\n\u001b[1;32m    150\u001b[0m         \u001b[0mckpt\u001b[0m\u001b[0;34m.\u001b[0m\u001b[0mread\u001b[0m\u001b[0;34m(\u001b[0m\u001b[0mresume_path\u001b[0m\u001b[0;34m)\u001b[0m\u001b[0;34m\u001b[0m\u001b[0;34m\u001b[0m\u001b[0m\n\u001b[0;32m--> 151\u001b[0;31m         \u001b[0mconfig\u001b[0m \u001b[0;34m=\u001b[0m \u001b[0mjson\u001b[0m\u001b[0;34m.\u001b[0m\u001b[0mloads\u001b[0m\u001b[0;34m(\u001b[0m\u001b[0mconfig\u001b[0m\u001b[0;34m.\u001b[0m\u001b[0mnumpy\u001b[0m\u001b[0;34m(\u001b[0m\u001b[0;34m)\u001b[0m\u001b[0;34m.\u001b[0m\u001b[0mdecode\u001b[0m\u001b[0;34m(\u001b[0m\u001b[0;34m\"utf-8\"\u001b[0m\u001b[0;34m)\u001b[0m\u001b[0;34m)\u001b[0m\u001b[0;34m\u001b[0m\u001b[0;34m\u001b[0m\u001b[0m\n\u001b[0m\u001b[1;32m    152\u001b[0m         \u001b[0mself\u001b[0m\u001b[0;34m.\u001b[0m\u001b[0mmnt_best\u001b[0m \u001b[0;34m=\u001b[0m \u001b[0mfloat\u001b[0m\u001b[0;34m(\u001b[0m\u001b[0mmonitor_best\u001b[0m\u001b[0;34m)\u001b[0m\u001b[0;34m\u001b[0m\u001b[0;34m\u001b[0m\u001b[0m\n\u001b[1;32m    153\u001b[0m         \u001b[0mself\u001b[0m\u001b[0;34m.\u001b[0m\u001b[0mstart_epoch\u001b[0m \u001b[0;34m=\u001b[0m \u001b[0mint\u001b[0m\u001b[0;34m(\u001b[0m\u001b[0mepoch\u001b[0m\u001b[0;34m)\u001b[0m \u001b[0;34m+\u001b[0m \u001b[0;36m1\u001b[0m\u001b[0;34m\u001b[0m\u001b[0;34m\u001b[0m\u001b[0m\n",
      "\u001b[0;32m/opt/anaconda3/envs/DProject/lib/python3.9/json/__init__.py\u001b[0m in \u001b[0;36mloads\u001b[0;34m(s, cls, object_hook, parse_float, parse_int, parse_constant, object_pairs_hook, **kw)\u001b[0m\n\u001b[1;32m    344\u001b[0m             \u001b[0mparse_int\u001b[0m \u001b[0;32mis\u001b[0m \u001b[0;32mNone\u001b[0m \u001b[0;32mand\u001b[0m \u001b[0mparse_float\u001b[0m \u001b[0;32mis\u001b[0m \u001b[0;32mNone\u001b[0m \u001b[0;32mand\u001b[0m\u001b[0;34m\u001b[0m\u001b[0;34m\u001b[0m\u001b[0m\n\u001b[1;32m    345\u001b[0m             parse_constant is None and object_pairs_hook is None and not kw):\n\u001b[0;32m--> 346\u001b[0;31m         \u001b[0;32mreturn\u001b[0m \u001b[0m_default_decoder\u001b[0m\u001b[0;34m.\u001b[0m\u001b[0mdecode\u001b[0m\u001b[0;34m(\u001b[0m\u001b[0ms\u001b[0m\u001b[0;34m)\u001b[0m\u001b[0;34m\u001b[0m\u001b[0;34m\u001b[0m\u001b[0m\n\u001b[0m\u001b[1;32m    347\u001b[0m     \u001b[0;32mif\u001b[0m \u001b[0mcls\u001b[0m \u001b[0;32mis\u001b[0m \u001b[0;32mNone\u001b[0m\u001b[0;34m:\u001b[0m\u001b[0;34m\u001b[0m\u001b[0;34m\u001b[0m\u001b[0m\n\u001b[1;32m    348\u001b[0m         \u001b[0mcls\u001b[0m \u001b[0;34m=\u001b[0m \u001b[0mJSONDecoder\u001b[0m\u001b[0;34m\u001b[0m\u001b[0;34m\u001b[0m\u001b[0m\n",
      "\u001b[0;32m/opt/anaconda3/envs/DProject/lib/python3.9/json/decoder.py\u001b[0m in \u001b[0;36mdecode\u001b[0;34m(self, s, _w)\u001b[0m\n\u001b[1;32m    335\u001b[0m \u001b[0;34m\u001b[0m\u001b[0m\n\u001b[1;32m    336\u001b[0m         \"\"\"\n\u001b[0;32m--> 337\u001b[0;31m         \u001b[0mobj\u001b[0m\u001b[0;34m,\u001b[0m \u001b[0mend\u001b[0m \u001b[0;34m=\u001b[0m \u001b[0mself\u001b[0m\u001b[0;34m.\u001b[0m\u001b[0mraw_decode\u001b[0m\u001b[0;34m(\u001b[0m\u001b[0ms\u001b[0m\u001b[0;34m,\u001b[0m \u001b[0midx\u001b[0m\u001b[0;34m=\u001b[0m\u001b[0m_w\u001b[0m\u001b[0;34m(\u001b[0m\u001b[0ms\u001b[0m\u001b[0;34m,\u001b[0m \u001b[0;36m0\u001b[0m\u001b[0;34m)\u001b[0m\u001b[0;34m.\u001b[0m\u001b[0mend\u001b[0m\u001b[0;34m(\u001b[0m\u001b[0;34m)\u001b[0m\u001b[0;34m)\u001b[0m\u001b[0;34m\u001b[0m\u001b[0;34m\u001b[0m\u001b[0m\n\u001b[0m\u001b[1;32m    338\u001b[0m         \u001b[0mend\u001b[0m \u001b[0;34m=\u001b[0m \u001b[0m_w\u001b[0m\u001b[0;34m(\u001b[0m\u001b[0ms\u001b[0m\u001b[0;34m,\u001b[0m \u001b[0mend\u001b[0m\u001b[0;34m)\u001b[0m\u001b[0;34m.\u001b[0m\u001b[0mend\u001b[0m\u001b[0;34m(\u001b[0m\u001b[0;34m)\u001b[0m\u001b[0;34m\u001b[0m\u001b[0;34m\u001b[0m\u001b[0m\n\u001b[1;32m    339\u001b[0m         \u001b[0;32mif\u001b[0m \u001b[0mend\u001b[0m \u001b[0;34m!=\u001b[0m \u001b[0mlen\u001b[0m\u001b[0;34m(\u001b[0m\u001b[0ms\u001b[0m\u001b[0;34m)\u001b[0m\u001b[0;34m:\u001b[0m\u001b[0;34m\u001b[0m\u001b[0;34m\u001b[0m\u001b[0m\n",
      "\u001b[0;32m/opt/anaconda3/envs/DProject/lib/python3.9/json/decoder.py\u001b[0m in \u001b[0;36mraw_decode\u001b[0;34m(self, s, idx)\u001b[0m\n\u001b[1;32m    353\u001b[0m             \u001b[0mobj\u001b[0m\u001b[0;34m,\u001b[0m \u001b[0mend\u001b[0m \u001b[0;34m=\u001b[0m \u001b[0mself\u001b[0m\u001b[0;34m.\u001b[0m\u001b[0mscan_once\u001b[0m\u001b[0;34m(\u001b[0m\u001b[0ms\u001b[0m\u001b[0;34m,\u001b[0m \u001b[0midx\u001b[0m\u001b[0;34m)\u001b[0m\u001b[0;34m\u001b[0m\u001b[0;34m\u001b[0m\u001b[0m\n\u001b[1;32m    354\u001b[0m         \u001b[0;32mexcept\u001b[0m \u001b[0mStopIteration\u001b[0m \u001b[0;32mas\u001b[0m \u001b[0merr\u001b[0m\u001b[0;34m:\u001b[0m\u001b[0;34m\u001b[0m\u001b[0;34m\u001b[0m\u001b[0m\n\u001b[0;32m--> 355\u001b[0;31m             \u001b[0;32mraise\u001b[0m \u001b[0mJSONDecodeError\u001b[0m\u001b[0;34m(\u001b[0m\u001b[0;34m\"Expecting value\"\u001b[0m\u001b[0;34m,\u001b[0m \u001b[0ms\u001b[0m\u001b[0;34m,\u001b[0m \u001b[0merr\u001b[0m\u001b[0;34m.\u001b[0m\u001b[0mvalue\u001b[0m\u001b[0;34m)\u001b[0m \u001b[0;32mfrom\u001b[0m \u001b[0;32mNone\u001b[0m\u001b[0;34m\u001b[0m\u001b[0;34m\u001b[0m\u001b[0m\n\u001b[0m\u001b[1;32m    356\u001b[0m         \u001b[0;32mreturn\u001b[0m \u001b[0mobj\u001b[0m\u001b[0;34m,\u001b[0m \u001b[0mend\u001b[0m\u001b[0;34m\u001b[0m\u001b[0;34m\u001b[0m\u001b[0m\n",
      "\u001b[0;31mJSONDecodeError\u001b[0m: Expecting value: line 1 column 1 (char 0)"
     ]
    }
   ],
   "metadata": {}
  },
  {
   "cell_type": "code",
   "execution_count": null,
   "source": [
    "results, logit, gTruth = trainer.test()"
   ],
   "outputs": [
    {
     "output_type": "stream",
     "name": "stderr",
     "text": [
      "  0%|          | 0/47 [00:00<?, ?it/s]2021-07-21 17:19:15.384047: I tensorflow/compiler/mlir/mlir_graph_optimization_pass.cc:116] None of the MLIR optimization passes are enabled (registered 2)\n",
      "Loss: 2.124: : 48it [02:56,  3.69s/it]\n"
     ]
    }
   ],
   "metadata": {}
  },
  {
   "cell_type": "code",
   "execution_count": null,
   "source": [
    "results"
   ],
   "outputs": [
    {
     "output_type": "execute_result",
     "data": {
      "text/plain": [
       "{'loss': <tf.Tensor: shape=(), dtype=float32, numpy=2.1238122>,\n",
       " 'accuracy': <tf.Tensor: shape=(), dtype=float32, numpy=0.16783217>}"
      ]
     },
     "metadata": {},
     "execution_count": 8
    }
   ],
   "metadata": {}
  },
  {
   "cell_type": "code",
   "execution_count": null,
   "source": [
    "for l in logit:\n",
    "    print(l.numpy().argmax(-1))"
   ],
   "outputs": [
    {
     "output_type": "stream",
     "name": "stdout",
     "text": [
      "[8 8 8]\n",
      "[8 8 8]\n",
      "[8 8 8]\n",
      "[8 8 8]\n",
      "[8 8 8]\n",
      "[8 8 8]\n",
      "[8 8 8]\n",
      "[8 8 8]\n",
      "[8 8 8]\n",
      "[8 8 8]\n",
      "[8 8 8]\n",
      "[8 8 8]\n",
      "[8 8 8]\n",
      "[8 8 8]\n",
      "[8 8 8]\n",
      "[8 8 8]\n",
      "[8 8 8]\n",
      "[8 8 8]\n",
      "[8 8 8]\n",
      "[8 8 8]\n",
      "[8 8 8]\n",
      "[8 8 8]\n",
      "[8 8 8]\n",
      "[8 8 8]\n",
      "[8 8 8]\n",
      "[8 8 8]\n",
      "[8 8 8]\n",
      "[8 8 8]\n",
      "[8 8 8]\n",
      "[8 8 8]\n",
      "[8 8 8]\n",
      "[8 8 8]\n",
      "[8 8 8]\n",
      "[8 8 8]\n",
      "[8 8 8]\n",
      "[8 8 8]\n",
      "[8 8 8]\n",
      "[8 8 8]\n",
      "[8 8 8]\n",
      "[8 8 8]\n",
      "[8 8 8]\n",
      "[8 8 8]\n",
      "[8 8 8]\n",
      "[8 8 8]\n",
      "[8 8 8]\n",
      "[8 8 8]\n",
      "[8 8 8]\n",
      "[8 8]\n"
     ]
    }
   ],
   "metadata": {}
  },
  {
   "cell_type": "code",
   "execution_count": null,
   "source": [
    "gTruth"
   ],
   "outputs": [
    {
     "output_type": "execute_result",
     "data": {
      "text/plain": [
       "[<tf.Tensor: shape=(3,), dtype=int32, numpy=array([0, 0, 1], dtype=int32)>,\n",
       " <tf.Tensor: shape=(3,), dtype=int32, numpy=array([4, 3, 1], dtype=int32)>,\n",
       " <tf.Tensor: shape=(3,), dtype=int32, numpy=array([6, 8, 0], dtype=int32)>,\n",
       " <tf.Tensor: shape=(3,), dtype=int32, numpy=array([6, 6, 1], dtype=int32)>,\n",
       " <tf.Tensor: shape=(3,), dtype=int32, numpy=array([7, 1, 5], dtype=int32)>,\n",
       " <tf.Tensor: shape=(3,), dtype=int32, numpy=array([1, 8, 2], dtype=int32)>,\n",
       " <tf.Tensor: shape=(3,), dtype=int32, numpy=array([2, 8, 8], dtype=int32)>,\n",
       " <tf.Tensor: shape=(3,), dtype=int32, numpy=array([1, 2, 2], dtype=int32)>,\n",
       " <tf.Tensor: shape=(3,), dtype=int32, numpy=array([1, 1, 4], dtype=int32)>,\n",
       " <tf.Tensor: shape=(3,), dtype=int32, numpy=array([0, 5, 1], dtype=int32)>,\n",
       " <tf.Tensor: shape=(3,), dtype=int32, numpy=array([3, 0, 6], dtype=int32)>,\n",
       " <tf.Tensor: shape=(3,), dtype=int32, numpy=array([6, 1, 7], dtype=int32)>,\n",
       " <tf.Tensor: shape=(3,), dtype=int32, numpy=array([0, 2, 8], dtype=int32)>,\n",
       " <tf.Tensor: shape=(3,), dtype=int32, numpy=array([6, 5, 0], dtype=int32)>,\n",
       " <tf.Tensor: shape=(3,), dtype=int32, numpy=array([8, 3, 1], dtype=int32)>,\n",
       " <tf.Tensor: shape=(3,), dtype=int32, numpy=array([8, 1, 5], dtype=int32)>,\n",
       " <tf.Tensor: shape=(3,), dtype=int32, numpy=array([5, 1, 8], dtype=int32)>,\n",
       " <tf.Tensor: shape=(3,), dtype=int32, numpy=array([1, 0, 4], dtype=int32)>,\n",
       " <tf.Tensor: shape=(3,), dtype=int32, numpy=array([6, 4, 2], dtype=int32)>,\n",
       " <tf.Tensor: shape=(3,), dtype=int32, numpy=array([8, 1, 1], dtype=int32)>,\n",
       " <tf.Tensor: shape=(3,), dtype=int32, numpy=array([5, 7, 5], dtype=int32)>,\n",
       " <tf.Tensor: shape=(3,), dtype=int32, numpy=array([3, 8, 1], dtype=int32)>,\n",
       " <tf.Tensor: shape=(3,), dtype=int32, numpy=array([0, 3, 1], dtype=int32)>,\n",
       " <tf.Tensor: shape=(3,), dtype=int32, numpy=array([0, 6, 1], dtype=int32)>,\n",
       " <tf.Tensor: shape=(3,), dtype=int32, numpy=array([8, 1, 0], dtype=int32)>,\n",
       " <tf.Tensor: shape=(3,), dtype=int32, numpy=array([4, 8, 8], dtype=int32)>,\n",
       " <tf.Tensor: shape=(3,), dtype=int32, numpy=array([8, 2, 1], dtype=int32)>,\n",
       " <tf.Tensor: shape=(3,), dtype=int32, numpy=array([0, 1, 6], dtype=int32)>,\n",
       " <tf.Tensor: shape=(3,), dtype=int32, numpy=array([7, 5, 3], dtype=int32)>,\n",
       " <tf.Tensor: shape=(3,), dtype=int32, numpy=array([1, 0, 8], dtype=int32)>,\n",
       " <tf.Tensor: shape=(3,), dtype=int32, numpy=array([8, 6, 5], dtype=int32)>,\n",
       " <tf.Tensor: shape=(3,), dtype=int32, numpy=array([1, 8, 5], dtype=int32)>,\n",
       " <tf.Tensor: shape=(3,), dtype=int32, numpy=array([2, 4, 0], dtype=int32)>,\n",
       " <tf.Tensor: shape=(3,), dtype=int32, numpy=array([1, 0, 0], dtype=int32)>,\n",
       " <tf.Tensor: shape=(3,), dtype=int32, numpy=array([8, 3, 1], dtype=int32)>,\n",
       " <tf.Tensor: shape=(3,), dtype=int32, numpy=array([6, 1, 6], dtype=int32)>,\n",
       " <tf.Tensor: shape=(3,), dtype=int32, numpy=array([1, 8, 0], dtype=int32)>,\n",
       " <tf.Tensor: shape=(3,), dtype=int32, numpy=array([8, 0, 3], dtype=int32)>,\n",
       " <tf.Tensor: shape=(3,), dtype=int32, numpy=array([5, 1, 6], dtype=int32)>,\n",
       " <tf.Tensor: shape=(3,), dtype=int32, numpy=array([2, 8, 6], dtype=int32)>,\n",
       " <tf.Tensor: shape=(3,), dtype=int32, numpy=array([0, 3, 5], dtype=int32)>,\n",
       " <tf.Tensor: shape=(3,), dtype=int32, numpy=array([2, 0, 2], dtype=int32)>,\n",
       " <tf.Tensor: shape=(3,), dtype=int32, numpy=array([6, 6, 1], dtype=int32)>,\n",
       " <tf.Tensor: shape=(3,), dtype=int32, numpy=array([1, 2, 1], dtype=int32)>,\n",
       " <tf.Tensor: shape=(3,), dtype=int32, numpy=array([1, 6, 1], dtype=int32)>,\n",
       " <tf.Tensor: shape=(3,), dtype=int32, numpy=array([1, 1, 2], dtype=int32)>,\n",
       " <tf.Tensor: shape=(3,), dtype=int32, numpy=array([8, 8, 8], dtype=int32)>,\n",
       " <tf.Tensor: shape=(2,), dtype=int32, numpy=array([1, 3], dtype=int32)>]"
      ]
     },
     "metadata": {},
     "execution_count": 7
    }
   ],
   "metadata": {}
  },
  {
   "cell_type": "code",
   "execution_count": null,
   "source": [
    "for layer in model.layers:\n",
    "    print(layer)"
   ],
   "outputs": [
    {
     "output_type": "stream",
     "name": "stdout",
     "text": [
      "<tensorflow.python.keras.engine.input_layer.InputLayer object at 0x182e99190>\n",
      "<tensorflow.python.keras.layers.core.TFOpLambda object at 0x1831975e0>\n",
      "<tensorflow.python.keras.layers.core.SlicingOpLambda object at 0x1830daf40>\n",
      "<tensorflow.python.keras.layers.core.SlicingOpLambda object at 0x183142130>\n",
      "<tensorflow.python.keras.layers.core.TFOpLambda object at 0x18310dee0>\n",
      "<tensorflow.python.keras.layers.core.TFOpLambda object at 0x18317ed30>\n",
      "<tensorflow.python.keras.layers.core.SlicingOpLambda object at 0x183187280>\n",
      "<tensorflow.python.keras.layers.core.SlicingOpLambda object at 0x18314dbb0>\n",
      "<tensorflow.python.keras.layers.core.SlicingOpLambda object at 0x183169400>\n",
      "<tensorflow.python.keras.layers.core.TFOpLambda object at 0x1831e4430>\n",
      "<tensorflow.python.keras.engine.functional.Functional object at 0x18327bc40>\n",
      "<tensorflow.python.keras.layers.convolutional.Conv2D object at 0x18327b850>\n",
      "<tensorflow.python.keras.layers.pooling.GlobalAveragePooling2D object at 0x182fa7040>\n",
      "<tensorflow.python.keras.engine.input_layer.InputLayer object at 0x182e99910>\n",
      "<tensorflow.python.keras.layers.core.TFOpLambda object at 0x183639c70>\n",
      "<tensorflow.python.keras.layers.core.TFOpLambda object at 0x18372ff10>\n",
      "<tensorflow.python.keras.layers.core.TFOpLambda object at 0x1831db8e0>\n",
      "<tensorflow.python.keras.layers.core.TFOpLambda object at 0x18372f5b0>\n",
      "<tensorflow.python.keras.layers.core.SlicingOpLambda object at 0x183646b20>\n",
      "<tensorflow.python.keras.layers.core.SlicingOpLambda object at 0x183640e80>\n",
      "<tensorflow.python.keras.layers.core.SlicingOpLambda object at 0x18364da60>\n",
      "<tensorflow.python.keras.layers.core.TFOpLambda object at 0x183736b20>\n",
      "<tensorflow.python.keras.layers.core.TFOpLambda object at 0x18370cdf0>\n",
      "<tensorflow.python.keras.layers.core.TFOpLambda object at 0x1836404f0>\n",
      "<tensorflow.python.keras.layers.core.TFOpLambda object at 0x183736d00>\n",
      "<tensorflow.python.keras.layers.core.TFOpLambda object at 0x18370c5b0>\n",
      "<tensorflow.python.keras.layers.core.TFOpLambda object at 0x183703af0>\n",
      "<tensorflow.python.keras.layers.core.SlicingOpLambda object at 0x183736070>\n",
      "<tensorflow.python.keras.layers.core.TFOpLambda object at 0x1837035e0>\n",
      "<tensorflow.python.keras.layers.core.TFOpLambda object at 0x183646640>\n",
      "<tensorflow.python.keras.layers.core.TFOpLambda object at 0x183655370>\n",
      "<tensorflow.python.keras.layers.core.TFOpLambda object at 0x183739310>\n",
      "<tensorflow.python.keras.layers.core.TFOpLambda object at 0x18371b370>\n",
      "<tensorflow.python.keras.layers.core.TFOpLambda object at 0x183710fd0>\n",
      "<tensorflow.python.keras.layers.core.TFOpLambda object at 0x1836465e0>\n",
      "<tensorflow.python.keras.layers.core.TFOpLambda object at 0x183739c70>\n",
      "<tensorflow.python.keras.layers.core.SlicingOpLambda object at 0x1837036d0>\n",
      "<tensorflow.python.keras.layers.core.TFOpLambda object at 0x18371bd00>\n",
      "<tensorflow.python.keras.layers.core.TFOpLambda object at 0x183740af0>\n",
      "<tensorflow.python.keras.layers.core.TFOpLambda object at 0x1837232b0>\n",
      "<tensorflow.python.keras.layers.core.TFOpLambda object at 0x1837104f0>\n",
      "<tensorflow.python.keras.layers.core.TFOpLambda object at 0x183739c10>\n",
      "<tensorflow.python.keras.layers.core.TFOpLambda object at 0x1837239d0>\n",
      "<tensorflow.python.keras.layers.core.TFOpLambda object at 0x18370c820>\n",
      "<tensorflow.python.keras.layers.core.TFOpLambda object at 0x183710490>\n",
      "<tensorflow.python.keras.layers.core.TFOpLambda object at 0x1837234f0>\n",
      "<tensorflow.python.keras.layers.core.TFOpLambda object at 0x183749fd0>\n",
      "<tensorflow.python.keras.layers.core.TFOpLambda object at 0x183749be0>\n",
      "<tensorflow.python.keras.layers.core.TFOpLambda object at 0x183723160>\n",
      "<tensorflow.python.keras.layers.core.TFOpLambda object at 0x1837366a0>\n",
      "<tensorflow.python.keras.layers.core.TFOpLambda object at 0x183723cd0>\n",
      "<model.vtn.layers.VTNDistilBertLayer object at 0x182ff9580>\n",
      "<tensorflow.python.keras.layers.core.SlicingOpLambda object at 0x183609a90>\n",
      "<tensorflow.python.keras.layers.normalization.LayerNormalization object at 0x182ffca30>\n",
      "<tensorflow.python.keras.layers.core.Dense object at 0x18302cfa0>\n",
      "<tensorflow.python.keras.layers.core.Dropout object at 0x183160d90>\n",
      "<tensorflow.python.keras.layers.core.Dense object at 0x183160b80>\n"
     ]
    }
   ],
   "metadata": {}
  }
 ],
 "metadata": {
  "orig_nbformat": 4,
  "language_info": {
   "name": "python",
   "version": "3.9.6",
   "mimetype": "text/x-python",
   "codemirror_mode": {
    "name": "ipython",
    "version": 3
   },
   "pygments_lexer": "ipython3",
   "nbconvert_exporter": "python",
   "file_extension": ".py"
  },
  "kernelspec": {
   "name": "python3",
   "display_name": "Python 3.9.6 64-bit ('DProject': conda)"
  },
  "interpreter": {
   "hash": "76dd2afa566cdc5f7198dd01bd4f169f0ea86d253b6af1aed2220f0b85b963fc"
  }
 },
 "nbformat": 4,
 "nbformat_minor": 2
}
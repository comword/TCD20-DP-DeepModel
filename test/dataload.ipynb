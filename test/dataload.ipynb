{
 "cells": [
  {
   "cell_type": "code",
   "execution_count": 2,
   "source": [
    "%matplotlib notebook"
   ],
   "outputs": [],
   "metadata": {}
  },
  {
   "cell_type": "code",
   "execution_count": 3,
   "source": [
    "import os\n",
    "import sys\n",
    "import cv2\n",
    "import random\n",
    "import numpy as np\n",
    "import tensorflow as tf\n",
    "from PIL import Image\n",
    "from IPython.display import HTML\n",
    "import matplotlib.pyplot as plt\n",
    "import matplotlib.animation as animation\n",
    "from skimage.transform import resize\n",
    "src_dir = os.path.join(\"../src\")\n",
    "sys.path.insert(0, src_dir)\n",
    "from dataloader import FrameDataLoader, FrameDataLoaderTF\n",
    "from dataloader.transform import *"
   ],
   "outputs": [],
   "metadata": {}
  },
  {
   "cell_type": "code",
   "execution_count": 4,
   "source": [
    "dl = FrameDataLoader(\"../data/anonymisedVideos\", 15, 5, 12, shuffle=False)"
   ],
   "outputs": [],
   "metadata": {}
  },
  {
   "cell_type": "code",
   "execution_count": 5,
   "source": [
    "list(dl.files.keys())"
   ],
   "outputs": [
    {
     "output_type": "execute_result",
     "data": {
      "text/plain": [
       "['d5477ba58cc584f18e636eac31eb9266/0',\n",
       " 'd5477ba58cc584f18e636eac31eb9266/1',\n",
       " 'd5477ba58cc584f18e636eac31eb9266/2',\n",
       " 'd5477ba58cc584f18e636eac31eb9266/3',\n",
       " 'd5477ba58cc584f18e636eac31eb9266/4',\n",
       " '3and4vWkW4s_000011_000021',\n",
       " '2b2eb2c7668f251e88a8932519512ebe/0',\n",
       " '2b2eb2c7668f251e88a8932519512ebe/1',\n",
       " '2b2eb2c7668f251e88a8932519512ebe/2',\n",
       " '2b2eb2c7668f251e88a8932519512ebe/3',\n",
       " '2b2eb2c7668f251e88a8932519512ebe/4',\n",
       " 'f79fadc0a0f46ce4a5a0ef21f6dc9d45/0',\n",
       " 'f79fadc0a0f46ce4a5a0ef21f6dc9d45/1',\n",
       " 'f79fadc0a0f46ce4a5a0ef21f6dc9d45/2',\n",
       " 'f79fadc0a0f46ce4a5a0ef21f6dc9d45/3',\n",
       " 'f79fadc0a0f46ce4a5a0ef21f6dc9d45/4',\n",
       " 'f79fadc0a0f46ce4a5a0ef21f6dc9d45/5',\n",
       " 'f79fadc0a0f46ce4a5a0ef21f6dc9d45/6',\n",
       " 'f79fadc0a0f46ce4a5a0ef21f6dc9d45/7',\n",
       " 'f79fadc0a0f46ce4a5a0ef21f6dc9d45/8',\n",
       " 'f79fadc0a0f46ce4a5a0ef21f6dc9d45/9',\n",
       " 'f79fadc0a0f46ce4a5a0ef21f6dc9d45/10',\n",
       " 'f79fadc0a0f46ce4a5a0ef21f6dc9d45/11',\n",
       " 'sJ-xgDg5k08_000430_000440',\n",
       " 'ee806b6e5bb18415cb046230e5f5c6e7/0',\n",
       " 'ee806b6e5bb18415cb046230e5f5c6e7/1',\n",
       " 'ee806b6e5bb18415cb046230e5f5c6e7/2',\n",
       " 'ee806b6e5bb18415cb046230e5f5c6e7/3',\n",
       " 'ee806b6e5bb18415cb046230e5f5c6e7/4',\n",
       " 'ee806b6e5bb18415cb046230e5f5c6e7/5',\n",
       " 'ee806b6e5bb18415cb046230e5f5c6e7/6',\n",
       " 'ee806b6e5bb18415cb046230e5f5c6e7/7',\n",
       " '3384a1a819d7a41d82f2e82b6476e5db/0',\n",
       " '3384a1a819d7a41d82f2e82b6476e5db/1',\n",
       " '3384a1a819d7a41d82f2e82b6476e5db/2',\n",
       " '01bff4cc979f6361c05880bdeb63c0c0/0',\n",
       " '55df26c3f947ca29a50dd12f2f872d9b/0',\n",
       " '55df26c3f947ca29a50dd12f2f872d9b/1',\n",
       " '55df26c3f947ca29a50dd12f2f872d9b/2',\n",
       " '55df26c3f947ca29a50dd12f2f872d9b/3',\n",
       " '78cb4c3cb0ba5d39d69f9939d2b72323/0',\n",
       " '78cb4c3cb0ba5d39d69f9939d2b72323/1',\n",
       " '78cb4c3cb0ba5d39d69f9939d2b72323/2',\n",
       " '78cb4c3cb0ba5d39d69f9939d2b72323/3',\n",
       " '78cb4c3cb0ba5d39d69f9939d2b72323/4',\n",
       " '78cb4c3cb0ba5d39d69f9939d2b72323/5',\n",
       " '78cb4c3cb0ba5d39d69f9939d2b72323/6',\n",
       " '78cb4c3cb0ba5d39d69f9939d2b72323/7',\n",
       " '78cb4c3cb0ba5d39d69f9939d2b72323/8',\n",
       " '78cb4c3cb0ba5d39d69f9939d2b72323/9',\n",
       " '78cb4c3cb0ba5d39d69f9939d2b72323/10',\n",
       " '78cb4c3cb0ba5d39d69f9939d2b72323/11',\n",
       " '78cb4c3cb0ba5d39d69f9939d2b72323/12',\n",
       " '9d15294cf5c3bf1eb213e9059af822d8/0',\n",
       " '9d15294cf5c3bf1eb213e9059af822d8/1',\n",
       " '9d15294cf5c3bf1eb213e9059af822d8/2',\n",
       " '9d15294cf5c3bf1eb213e9059af822d8/3',\n",
       " '9d15294cf5c3bf1eb213e9059af822d8/4',\n",
       " '4c91e9f71b82363d8d6f3e9eae989b64/0',\n",
       " '4c91e9f71b82363d8d6f3e9eae989b64/1',\n",
       " '3b161cdc3b1cfe3a1e86b88e2445855f/0',\n",
       " '3b161cdc3b1cfe3a1e86b88e2445855f/1',\n",
       " '3b161cdc3b1cfe3a1e86b88e2445855f/2',\n",
       " '3b161cdc3b1cfe3a1e86b88e2445855f/3',\n",
       " '3b161cdc3b1cfe3a1e86b88e2445855f/4',\n",
       " 'Eprc9G7eDAg_000146_000156',\n",
       " 'sFWnb5LJEbw_000000_000010',\n",
       " '6839d4487e028f91cd44bccf8714357a/0',\n",
       " '6839d4487e028f91cd44bccf8714357a/1',\n",
       " 'd749481f43f076e6e1d2a5e3ba7345c5/0',\n",
       " 'd749481f43f076e6e1d2a5e3ba7345c5/1',\n",
       " '208ef8c86d5b3bf028aff9bba345a466/0',\n",
       " 'bd4690932d8b584b9dc6a0f2d5e90291/0',\n",
       " 'bd4690932d8b584b9dc6a0f2d5e90291/1',\n",
       " 'bd4690932d8b584b9dc6a0f2d5e90291/2',\n",
       " 'bd4690932d8b584b9dc6a0f2d5e90291/3',\n",
       " 'bd4690932d8b584b9dc6a0f2d5e90291/4',\n",
       " 'bd4690932d8b584b9dc6a0f2d5e90291/5',\n",
       " 'bd4690932d8b584b9dc6a0f2d5e90291/6',\n",
       " 'bd4690932d8b584b9dc6a0f2d5e90291/7',\n",
       " 'bd4690932d8b584b9dc6a0f2d5e90291/8',\n",
       " 'bd4690932d8b584b9dc6a0f2d5e90291/9',\n",
       " 'bd4690932d8b584b9dc6a0f2d5e90291/10',\n",
       " 'bd4690932d8b584b9dc6a0f2d5e90291/11',\n",
       " 'a6f5d3c402cc73b858bea4ce855f3b9e/0',\n",
       " '0d0d71e0f555e5849ca8d2fea2660b40/0',\n",
       " '0d0d71e0f555e5849ca8d2fea2660b40/1',\n",
       " 'df2f851860e30f7e6a30245663f2db43/0',\n",
       " 'dbaed97d494695e95a42cd98582639ca/0',\n",
       " 'dbaed97d494695e95a42cd98582639ca/1',\n",
       " 'dbaed97d494695e95a42cd98582639ca/2',\n",
       " 'dbaed97d494695e95a42cd98582639ca/3',\n",
       " 'dbaed97d494695e95a42cd98582639ca/4',\n",
       " 'dbaed97d494695e95a42cd98582639ca/5',\n",
       " 'dbaed97d494695e95a42cd98582639ca/6',\n",
       " '2a280b4c26d05630d75b7a8f6c2d3f8e/0',\n",
       " '2a280b4c26d05630d75b7a8f6c2d3f8e/1',\n",
       " '5417fc449dc85331c46bfb976cf98c9b/0',\n",
       " '5417fc449dc85331c46bfb976cf98c9b/1',\n",
       " '5417fc449dc85331c46bfb976cf98c9b/2',\n",
       " '5417fc449dc85331c46bfb976cf98c9b/3',\n",
       " '5417fc449dc85331c46bfb976cf98c9b/4',\n",
       " '5417fc449dc85331c46bfb976cf98c9b/5',\n",
       " '5417fc449dc85331c46bfb976cf98c9b/6',\n",
       " 'xVam2K4WJ54_000007_000017',\n",
       " 'fe25c2b4eebf1d043f65bc0bad109da1',\n",
       " 'UP1TePkCdMk_000001_000011',\n",
       " '8ac1526d6ea0ad8d3746d88e2a73592b/0',\n",
       " 'fd6ba1c5e8ade93391f24d5ceed64b84/0',\n",
       " 'jAh3AJvSytE_000015_000025',\n",
       " 'gGwvSlrXhVE_000004_000014',\n",
       " '086b5d6a993523095d64cd3bbda4e8a1/0',\n",
       " '2x1lIrgKxYo_000589_000599',\n",
       " 'aeAgrglsZh4_000000_000010',\n",
       " 'a612165efd129e4bc6a98ebdf1e62dc6/0',\n",
       " 'a612165efd129e4bc6a98ebdf1e62dc6/1',\n",
       " 'a612165efd129e4bc6a98ebdf1e62dc6/2',\n",
       " 'a612165efd129e4bc6a98ebdf1e62dc6/3',\n",
       " 'a612165efd129e4bc6a98ebdf1e62dc6/4',\n",
       " '35006783d23f2327bccaf7ef3fe86360/0',\n",
       " '35006783d23f2327bccaf7ef3fe86360/1',\n",
       " '35006783d23f2327bccaf7ef3fe86360/2',\n",
       " '9078dc053c280002260b7f25cfd62d76',\n",
       " 'jZ-RKDUgTZc_000529_000539',\n",
       " '0cONsRVrLbU_000023_000033',\n",
       " '4b3545947312e979db99818be217e489/0',\n",
       " '4b3545947312e979db99818be217e489/1',\n",
       " '4b3545947312e979db99818be217e489/2',\n",
       " '55d5f1c924107c1963c26edec238e5d4/0',\n",
       " '55d5f1c924107c1963c26edec238e5d4/1',\n",
       " 'eae5d7020fd8aefcbb7aa0efa1daedf7/0',\n",
       " 'bFdTLPL8TTM_000169_000179',\n",
       " '6d5d7cdbeb712a08fa879a8c5888b303/0',\n",
       " '6d5d7cdbeb712a08fa879a8c5888b303/1',\n",
       " '-P6oVaW_u9E_000097_000107',\n",
       " '-43p5IQaY18_000383_000393',\n",
       " 'CB1iIWtDpSI_000431_000441',\n",
       " 'UPujViBOznY_000062_000072',\n",
       " '3yaoNwz99xM_000062_000072',\n",
       " '938e5afe87fa6e5625e4b8f4dea14ca9/0',\n",
       " 'OG1IRQyhgs8_000457_000467',\n",
       " 'NhookIisNLk_000049_000059',\n",
       " 'Kr-zT6dhUmI_000033_000043',\n",
       " 'b38c891a1b5122263c486708940b0b6a',\n",
       " 'ad4f9f35501150203e9511d3d2123cb4',\n",
       " '5fd9e941dc7be4bd078b56803f3d6c46',\n",
       " '64494ae98f4d73a657c469c54154e8cd/0',\n",
       " '0fd582cc7c2bae69b44a233193caa577',\n",
       " 'ed6760ad399d45479fb04d9d7fc65121']"
      ]
     },
     "metadata": {},
     "execution_count": 5
    }
   ],
   "metadata": {}
  },
  {
   "cell_type": "markdown",
   "source": [
    "img = cv2.imread('../data/anonymisedVideos/-43p5IQaY18_000383_000393_0.jpg')\n",
    "imgs = np.expand_dims(img, axis=0) "
   ],
   "metadata": {}
  },
  {
   "cell_type": "markdown",
   "source": [
    "# B, H, W, C\n",
    "frames = np.transpose(imgs, (0, 3, 1, 2))\n",
    "Image.fromarray(img)"
   ],
   "metadata": {}
  },
  {
   "cell_type": "markdown",
   "source": [
    "img_shape = frames.shape\n",
    "resize_factor = random.uniform(0.8, 1.2)\n",
    "resized = np.zeros((1, img_shape[1], int(img_shape[2]*resize_factor), int(img_shape[3]*resize_factor)))\n",
    "for n, i in enumerate(frames):\n",
    "    resized[n, :, :, :] = resize(\n",
    "        frames[n, :, :, :], resized.shape[1:], anti_aliasing=True)\n",
    "frames = resized\n",
    "frames.shape"
   ],
   "metadata": {}
  },
  {
   "cell_type": "markdown",
   "source": [
    "res = np.transpose(frames, (0, 2, 3, 1))\n",
    "Image.fromarray((res[0]*255).astype(np.uint8))"
   ],
   "metadata": {}
  },
  {
   "cell_type": "markdown",
   "source": [
    "with open(\"../data/anonymisedVideos/types.json\", \"r\") as f:\n",
    "    cls_types = json.load(f)\n",
    "labels = pd.read_csv('../data/anonymisedVideos/videos.csv', index_col=\"name\")"
   ],
   "metadata": {}
  },
  {
   "cell_type": "markdown",
   "source": [
    "def get_start_end_idx(video_size, clip_size, clip_idx, num_clips):\n",
    "    delta = max(video_size - clip_size, 0)\n",
    "    start_idx = delta * clip_idx / num_clips\n",
    "    end_idx = start_idx + clip_size - 1\n",
    "    return start_idx, end_idx"
   ],
   "metadata": {}
  },
  {
   "cell_type": "markdown",
   "source": [
    "file_list = list(Path(\"../data/anonymisedVideos\").glob(\"*.jpg\"))\n",
    "temp_files = dict(zip(map(lambda x: x.stem, file_list),\n",
    "                map(lambda x: str(x), file_list)))\n",
    "\n",
    "files = {}\n",
    "for (k, v) in temp_files.items():\n",
    "    ksplit = k.split(\"_\")\n",
    "    video_name, frame_id = \"_\".join(ksplit[:-1]), int(ksplit[-1])\n",
    "    if not video_name in files:\n",
    "        files[video_name] = {}\n",
    "    files[video_name][frame_id] = v\n",
    "\n",
    "temp_files = {}\n",
    "for k in files.keys():\n",
    "    files[k] = sorted(files[k].items())\n",
    "    video_fps = int(labels.loc[k]['fps'])\n",
    "    video_size = len(files[k])\n",
    "    if(video_size > 12 * video_fps):\n",
    "        split_num = video_size // (12 * video_fps)\n",
    "        for x in range(0, split_num+1):\n",
    "            start_idx, end_idx = get_start_end_idx(video_size, 12 * video_fps, x, split_num)\n",
    "            temp_files[\"%s/%d\"%(k, x)] = files[k][round(start_idx):round(end_idx)]\n",
    "    else:\n",
    "        temp_files[k] = files[k]\n",
    "files = collections.OrderedDict(temp_files)"
   ],
   "metadata": {}
  },
  {
   "cell_type": "code",
   "execution_count": 6,
   "source": [
    "def anim(a_batch, label):\n",
    "    fig, ax = plt.subplots()\n",
    "    anim_res = []\n",
    "    imgs = a_batch.transpose((1,2,3,0))\n",
    "    for i in range(imgs.shape[0]):\n",
    "        ax.set_title(label)\n",
    "        anim_res.append([ax.imshow(Image.fromarray(imgs[i]), animated=True)])\n",
    "    return animation.ArtistAnimation(fig, anim_res, interval=100, blit=True, repeat_delay=1000)"
   ],
   "outputs": [],
   "metadata": {}
  },
  {
   "cell_type": "code",
   "execution_count": 7,
   "source": [
    "batch_size = 3\n",
    "ds = FrameDataLoaderTF(\"../data/anonymisedVideos\", 15, 5, 10, resolution=[224, 224], batch_size=batch_size, shuffle=False)\n",
    "print(ds.__len__())"
   ],
   "outputs": [
    {
     "output_type": "stream",
     "name": "stdout",
     "text": [
      "496\n"
     ]
    },
    {
     "output_type": "stream",
     "name": "stderr",
     "text": [
      "2021-07-17 21:32:52.104746: I tensorflow/core/platform/cpu_feature_guard.cc:142] This TensorFlow binary is optimized with oneAPI Deep Neural Network Library (oneDNN) to use the following CPU instructions in performance-critical operations:  SSE4.1 SSE4.2 AVX AVX2 FMA\n",
      "To enable them in other operations, rebuild TensorFlow with the appropriate compiler flags.\n"
     ]
    }
   ],
   "metadata": {}
  },
  {
   "cell_type": "code",
   "execution_count": 8,
   "source": [
    "if ds.hasSplitValidation():\n",
    "    train_ds, val_ds = ds.getSplitDataset()\n",
    "    print(\"Train len:\", ds.getTrainLen(), \", Val len: \", ds.getValLen())\n",
    "train_iter = iter(train_ds)\n",
    "val_iter = iter(val_ds)\n",
    "st_1 = next(train_iter)\n",
    "# for i in range(446):\n",
    "#     X, frame_idx, y = next(train_iter)\n",
    "# for i in range(49):\n",
    "#     X, frame_idx, y = next(val_iter)\n",
    "st_2 = next(train_iter)\n",
    "print(st_1, st_2)"
   ],
   "outputs": [
    {
     "output_type": "stream",
     "name": "stderr",
     "text": [
      "2021-07-17 21:32:52.267889: I tensorflow/compiler/mlir/mlir_graph_optimization_pass.cc:116] None of the MLIR optimization passes are enabled (registered 2)\n"
     ]
    },
    {
     "output_type": "stream",
     "name": "stdout",
     "text": [
      "Train len: 447 , Val len:  49\n"
     ]
    }
   ],
   "metadata": {}
  },
  {
   "cell_type": "markdown",
   "source": [
    "img = (X[0].numpy()*255).astype(np.uint8)\n",
    "img = img.transpose((1,2,3,0))[0]\n",
    "Image.fromarray(img)"
   ],
   "metadata": {}
  },
  {
   "cell_type": "markdown",
   "source": [
    "HTML(anim((X[0].numpy()*255).astype(np.uint8), y[0].numpy()).to_jshtml())"
   ],
   "metadata": {}
  }
 ],
 "metadata": {
  "orig_nbformat": 4,
  "language_info": {
   "name": "python"
  }
 },
 "nbformat": 4,
 "nbformat_minor": 2
}
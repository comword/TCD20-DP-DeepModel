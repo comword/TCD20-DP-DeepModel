{
 "cells": [
  {
   "cell_type": "code",
   "execution_count": 2,
   "source": [
    "import os\n",
    "import sys\n",
    "import tensorflow as tf\n",
    "import matplotlib.pyplot as plt\n",
    "src_dir = os.path.join(\"../src\")\n",
    "sys.path.insert(0, src_dir)\n",
    "root_dir = os.path.join(\"..\")\n",
    "sys.path.insert(0, root_dir)\n",
    "from parse_config import ConfigParser"
   ],
   "outputs": [],
   "metadata": {}
  },
  {
   "cell_type": "code",
   "execution_count": null,
   "source": [],
   "outputs": [],
   "metadata": {}
  }
 ],
 "metadata": {
  "orig_nbformat": 4,
  "language_info": {
   "name": "python"
  }
 },
 "nbformat": 4,
 "nbformat_minor": 2
}